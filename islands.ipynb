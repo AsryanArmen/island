{
 "cells": [
  {
   "cell_type": "code",
   "execution_count": 39,
   "id": "fe8a3561-cdaf-429d-8606-e9a374d5d933",
   "metadata": {},
   "outputs": [],
   "source": [
    "import numpy as np\n",
    "jur = '🌊'\n",
    "kxziner = ['🌴', '🌵', '🍁', '🌲', '🌼', '🌹']"
   ]
  },
  {
   "cell_type": "code",
   "execution_count": 52,
   "id": "78155fd1-6beb-460e-9e8c-b52552fb4d13",
   "metadata": {},
   "outputs": [
    {
     "data": {
      "text/plain": [
       "array([['0', '0', '0', '0', '1', '1'],\n",
       "       ['1', '1', '0', '0', '0', '0'],\n",
       "       ['0', '1', '1', '1', '0', '1'],\n",
       "       ['1', '1', '0', '0', '0', '1'],\n",
       "       ['0', '1', '0', '1', '0', '0'],\n",
       "       ['1', '1', '1', '1', '1', '0'],\n",
       "       ['1', '0', '1', '1', '1', '1'],\n",
       "       ['0', '1', '0', '0', '1', '1'],\n",
       "       ['0', '0', '1', '0', '1', '0']], dtype='<U1')"
      ]
     },
     "execution_count": 52,
     "metadata": {},
     "output_type": "execute_result"
    }
   ],
   "source": [
    "n = np.random.randint(2, 10)\n",
    "m = np.random.randint(2, 10)\n",
    "matrix = []\n",
    "for i in range(m):\n",
    "    for j in range(n):\n",
    "        matrix.append(np.random.choice(['0', '1']))\n",
    "matrix = np.array(matrix).reshape(m, n)\n",
    "matrix"
   ]
  },
  {
   "cell_type": "code",
   "execution_count": 53,
   "id": "054926ee-94b3-4818-9c32-db172c84a07a",
   "metadata": {},
   "outputs": [],
   "source": [
    "count = 0\n",
    "dzev = 0\n",
    "def kxz(i, j):\n",
    "# 1\n",
    "    if i > 0 and j > 0 and matrix[i - 1][j - 1] == '1':\n",
    "        matrix[i - 1][j - 1] = 'x'       \n",
    "# 2    \n",
    "    if matrix[i - 1][j] == '1' and i > 0:\n",
    "        matrix[i - 1][j] = 'x'       \n",
    "# 3\n",
    "    if i > 0 and j < n-1 and matrix[i - 1][j + 1] == '1':\n",
    "        matrix[i - 1][j + 1] = 'x'       \n",
    "# 4\n",
    "    if  j < n-1 and matrix[i][j + 1] == '1':\n",
    "        matrix[i][j + 1] = 'x'       \n",
    "# 5\n",
    "    if i < m-1 and j < n-1 and matrix[i + 1][j + 1] == '1':\n",
    "        matrix[i + 1][j + 1] = 'x'       \n",
    "# 6\n",
    "    if  i < m-1 and matrix[i + 1][j] == '1':\n",
    "        matrix[i + 1][j] = 'x'       \n",
    "# 7\n",
    "    if i < m-1 and j > 0 and matrix[i + 1][j - 1] == '1':\n",
    "        matrix[i + 1][j - 1] = 'x'       \n",
    "# 8\n",
    "    if j > 0 and matrix[i][j - 1] == '1':\n",
    "        matrix[i][j - 1] = 'x'       "
   ]
  },
  {
   "cell_type": "code",
   "execution_count": 54,
   "id": "8fa0631d-3fa7-4bdc-9e1f-a1d92117f221",
   "metadata": {},
   "outputs": [
    {
     "data": {
      "text/plain": [
       "3"
      ]
     },
     "execution_count": 54,
     "metadata": {},
     "output_type": "execute_result"
    }
   ],
   "source": [
    "for i in range(m):\n",
    "    for j in range(n):\n",
    "        if matrix[i][j] == '0':\n",
    "            matrix[i][j] = jur\n",
    "        if matrix[i][j] == '1':\n",
    "            matrix[i][j] = 'x'\n",
    "            kxz(i, j)\n",
    "        if 'x' in matrix:\n",
    "            while 'x' in matrix:\n",
    "                for k in range(m):\n",
    "                    for t in range(n):\n",
    "                        if matrix[k][t] == 'x':\n",
    "                            matrix[k][t] = kxziner[dzev]\n",
    "                            kxz(k, t)\n",
    "            else:\n",
    "                count += 1\n",
    "                dzev += 1\n",
    "count"
   ]
  },
  {
   "cell_type": "code",
   "execution_count": 55,
   "id": "c0daf70d-a273-45c8-8dde-ffd0f876a9b0",
   "metadata": {},
   "outputs": [
    {
     "data": {
      "text/plain": [
       "array([['🌊', '🌊', '🌊', '🌊', '🌴', '🌴'],\n",
       "       ['🌵', '🌵', '🌊', '🌊', '🌊', '🌊'],\n",
       "       ['🌊', '🌵', '🌵', '🌵', '🌊', '🍁'],\n",
       "       ['🌵', '🌵', '🌊', '🌊', '🌊', '🍁'],\n",
       "       ['🌊', '🌵', '🌊', '🌵', '🌊', '🌊'],\n",
       "       ['🌵', '🌵', '🌵', '🌵', '🌵', '🌊'],\n",
       "       ['🌵', '🌊', '🌵', '🌵', '🌵', '🌵'],\n",
       "       ['🌊', '🌵', '🌊', '🌊', '🌵', '🌵'],\n",
       "       ['🌊', '🌊', '🌵', '🌊', '🌵', '🌊']], dtype='<U1')"
      ]
     },
     "execution_count": 55,
     "metadata": {},
     "output_type": "execute_result"
    }
   ],
   "source": [
    "matrix"
   ]
  },
  {
   "cell_type": "code",
   "execution_count": null,
   "id": "37e5ad43-5c00-4145-afe7-9a598ee5e728",
   "metadata": {},
   "outputs": [],
   "source": []
  }
 ],
 "metadata": {
  "kernelspec": {
   "display_name": "Python 3 (ipykernel)",
   "language": "python",
   "name": "python3"
  },
  "language_info": {
   "codemirror_mode": {
    "name": "ipython",
    "version": 3
   },
   "file_extension": ".py",
   "mimetype": "text/x-python",
   "name": "python",
   "nbconvert_exporter": "python",
   "pygments_lexer": "ipython3",
   "version": "3.11.8"
  }
 },
 "nbformat": 4,
 "nbformat_minor": 5
}
